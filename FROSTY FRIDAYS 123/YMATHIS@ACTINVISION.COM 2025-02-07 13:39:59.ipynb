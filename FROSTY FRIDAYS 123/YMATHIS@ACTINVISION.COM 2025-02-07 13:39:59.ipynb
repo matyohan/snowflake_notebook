{
 "metadata": {
  "kernelspec": {
   "display_name": "Streamlit Notebook",
   "name": "streamlit"
  },
  "lastEditStatus": {
   "notebookId": "bpjpc7e7u23akbgwjqdo",
   "authorId": "7276091313399",
   "authorName": "YMATHIS@ACTINVISION.COM",
   "authorEmail": "ymathis@actinvision.com",
   "sessionId": "237713ca-19e0-4f9f-901c-0eeb91826be3",
   "lastEditTime": 1738943356947
  }
 },
 "nbformat_minor": 5,
 "nbformat": 4,
 "cells": [
  {
   "cell_type": "code",
   "id": "3775908f-ca36-4846-8f38-5adca39217f2",
   "metadata": {
    "language": "sql",
    "name": "Settings"
   },
   "source": "--Creation external access\nCREATE OR REPLACE NETWORK RULE api_network_rule\n  MODE = EGRESS\n  TYPE = HOST_PORT\n  VALUE_LIST = ('indianculture.gov.in');\n\n  CREATE OR REPLACE EXTERNAL ACCESS INTEGRATION apis_access_integration\n  ALLOWED_NETWORK_RULES = (api_network_rule)\n  ENABLED = true;\n\n  GRANT USAGE ON INTEGRATION apis_access_integration TO ROLE accountadmin;\n",
   "execution_count": null,
   "outputs": []
  },
  {
   "cell_type": "code",
   "id": "8d50cbf4-0c8d-4950-86cb-114990437ac9",
   "metadata": {
    "language": "python",
    "name": "Scrapping",
    "collapsed": false
   },
   "source": "#APPEL SCRAPPING Test\nimport requests\nimport pandas as pd\nfrom bs4 import BeautifulSoup \nfrom snowflake.snowpark.context import get_active_session\n\nsession=get_active_session();\n\ndef scrape_text_from_url(url):\n    try:\n        headers = {\n            'User-Agent': 'Mozilla/5.0 (Windows NT 10.0; Win64; x64) AppleWebKit/537.36 (KHTML, like Gecko) Chrome/114.0.0 Safari/537.36'\n        }\n        response = requests.get(url, headers=headers)\n        response.raise_for_status()\n\n        soup = BeautifulSoup(response.text, 'html.parser')\n        title_tag = soup.title.get_text().strip().upper() if soup.title else \"\"\n\n        main_content = soup.find('body')\n        if not main_content:\n            print(\"Main content not found.\")\n            return None\n\n        elements = main_content.find_all(['h1', 'h2', 'h3', 'h4', 'h5', 'h6', 'p'])\n\n        start_collecting = False\n        filtered_elements = []\n\n        for element in elements:\n            if element.name == 'h1' and element.get_text(strip=True).upper() == 'प्राचीन भारत में किलों का इतिहास':\n                start_collecting = True\n            if start_collecting:\n                filtered_elements.append(element)\n\n        rows = []\n\n        if title_tag:\n            rows.append([\"TITLE\", title_tag])\n\n        for element in filtered_elements:\n            tag_name = element.name.upper()\n            text_content = element.get_text().strip()\n            rows.append([tag_name, text_content])\n\n        df = pd.DataFrame(rows, columns=[\"TAG\", \"CONTENT\"])\n\n        return df\n    except requests.exceptions.RequestException as e:\n        print(f\"Error fetching the URL: {e}\")\n        return None\n\n\nurl = 'https://indianculture.gov.in/hi/node/2730054'\n\nresult_df = scrape_text_from_url(url)\n\n",
   "execution_count": null,
   "outputs": []
  },
  {
   "cell_type": "code",
   "id": "c695373e-ac74-4b62-a1f1-08206cbd5c81",
   "metadata": {
    "language": "python",
    "name": "temp_write",
    "collapsed": false
   },
   "source": "#result_df\nsession.write_pandas(result_df, \"TEMP_SCRAPPING\",auto_create_table=True, table_type='temp')",
   "execution_count": null,
   "outputs": []
  },
  {
   "cell_type": "code",
   "id": "9284454f-3066-462e-9ce4-c8159e003da4",
   "metadata": {
    "language": "sql",
    "name": "check_table",
    "collapsed": false
   },
   "outputs": [],
   "source": "\nSELECT * from TEMP_SCRAPPING\n",
   "execution_count": null
  },
  {
   "cell_type": "code",
   "id": "b77a13ab-38d3-410f-aa5d-fe117f72a8d7",
   "metadata": {
    "language": "sql",
    "name": "Translate",
    "collapsed": false
   },
   "outputs": [],
   "source": "SELECT *,  SNOWFLAKE.CORTEX.TRANSLATE(content, 'hi', 'fr') FROM TEMP_SCRAPPING",
   "execution_count": null
  }
 ]
}